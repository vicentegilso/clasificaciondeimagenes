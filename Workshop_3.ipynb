{
  "nbformat": 4,
  "nbformat_minor": 0,
  "metadata": {
    "colab": {
      "name": "Workshop 3.ipynb",
      "provenance": [],
      "collapsed_sections": [],
      "include_colab_link": true
    },
    "kernelspec": {
      "name": "python3",
      "display_name": "Python 3"
    },
    "accelerator": "GPU"
  },
  "cells": [
    {
      "cell_type": "markdown",
      "metadata": {
        "id": "view-in-github",
        "colab_type": "text"
      },
      "source": [
        "<a href=\"https://colab.research.google.com/github/vicentegilso/clasificaciondeimagenes/blob/main/Workshop_3.ipynb\" target=\"_parent\"><img src=\"https://colab.research.google.com/assets/colab-badge.svg\" alt=\"Open In Colab\"/></a>"
      ]
    },
    {
      "cell_type": "markdown",
      "metadata": {
        "id": "AL8RQZGoqqQJ"
      },
      "source": [
        "# Workshop 3: CNN state of the art\n",
        "\n",
        "In this workshop we will learn techniques to increase the performance of CNN and how to use state of the art architectures. The structure of the workshop will be the following:\n",
        "\n",
        "\n",
        "\n",
        "1.   Dropout\n",
        "2.   Batch Normalization\n",
        "3.   Data Augmentation\n",
        "4.   Transfer learning\n",
        "\n"
      ]
    },
    {
      "cell_type": "markdown",
      "metadata": {
        "id": "y91AuX2jrJDo"
      },
      "source": [
        "## 1. Dropout"
      ]
    },
    {
      "cell_type": "code",
      "metadata": {
        "id": "jxUYGXkFPG98"
      },
      "source": [
        "# Import dependence for downloading CIFAR10\n",
        "from keras.datasets import cifar10 "
      ],
      "execution_count": 1,
      "outputs": []
    },
    {
      "cell_type": "code",
      "metadata": {
        "id": "aaGDZgZkS9c1",
        "colab": {
          "base_uri": "https://localhost:8080/"
        },
        "outputId": "c7ad4e2d-0316-4506-b0c7-5493da043c1b"
      },
      "source": [
        "(X_train, y_train), (X_testval, y_testval) = cifar10.load_data()"
      ],
      "execution_count": 2,
      "outputs": [
        {
          "output_type": "stream",
          "text": [
            "Downloading data from https://www.cs.toronto.edu/~kriz/cifar-10-python.tar.gz\n",
            "170500096/170498071 [==============================] - 4s 0us/step\n"
          ],
          "name": "stdout"
        }
      ]
    },
    {
      "cell_type": "code",
      "metadata": {
        "id": "nA-qauKITM-O"
      },
      "source": [
        "# Import dependence for handling arrays\n",
        "import numpy as np"
      ],
      "execution_count": 3,
      "outputs": []
    },
    {
      "cell_type": "code",
      "metadata": {
        "id": "KZ5vh3g8Xh_j"
      },
      "source": [
        "# Change the range of pixels from [0 255] to [0 1]\n",
        "X_train_fl = X_train.astype('float32')\n",
        "X_testval_fl = X_testval.astype('float32')\n",
        "X_train_fl /= 255\n",
        "X_testval_fl /= 255"
      ],
      "execution_count": 4,
      "outputs": []
    },
    {
      "cell_type": "code",
      "metadata": {
        "id": "Nj74QnR4Vbt1"
      },
      "source": [
        "# Import dependence for one-hot encoding\n",
        "from sklearn.preprocessing import OneHotEncoder"
      ],
      "execution_count": 5,
      "outputs": []
    },
    {
      "cell_type": "code",
      "metadata": {
        "id": "_nTRJ7yeVeN3"
      },
      "source": [
        "# One-hot encoding of labels\n",
        "onehot_enc = OneHotEncoder()\n",
        "y_train_oh = onehot_enc.fit_transform(y_train.reshape(X_train.shape[0], 1)).toarray()\n",
        "y_testval_oh = onehot_enc.fit_transform(y_testval.reshape(X_testval.shape[0], 1)).toarray()"
      ],
      "execution_count": 6,
      "outputs": []
    },
    {
      "cell_type": "code",
      "metadata": {
        "id": "ry7H5BvPVl6D",
        "colab": {
          "base_uri": "https://localhost:8080/"
        },
        "outputId": "86ae2cc4-d982-4d94-8288-5b9eabc5a215"
      },
      "source": [
        "# Show one-hot encoded labels shape\n",
        "print(\"Training one-hot encoded labels shape:\", y_train_oh.shape)\n",
        "print(\"Testing one-hot encoded labels shape:\", y_testval_oh.shape)"
      ],
      "execution_count": 7,
      "outputs": [
        {
          "output_type": "stream",
          "text": [
            "Training one-hot encoded labels shape: (50000, 10)\n",
            "Testing one-hot encoded labels shape: (10000, 10)\n"
          ],
          "name": "stdout"
        }
      ]
    },
    {
      "cell_type": "code",
      "metadata": {
        "id": "7PoZUM_sVoi6"
      },
      "source": [
        "# Divide testval in test and validation partitions\n",
        "samples_test_nb = int(X_testval.shape[0]/2)\n",
        "X_val = X_testval_fl[:samples_test_nb]\n",
        "y_val = y_testval_oh[:samples_test_nb]\n",
        "X_test = X_testval_fl[samples_test_nb:]\n",
        "y_test = y_testval_oh[samples_test_nb:]"
      ],
      "execution_count": 8,
      "outputs": []
    },
    {
      "cell_type": "code",
      "metadata": {
        "id": "ofgM7brWVsN1",
        "colab": {
          "base_uri": "https://localhost:8080/"
        },
        "outputId": "90cb419c-977e-4954-981b-ef4fcb7bc90f"
      },
      "source": [
        "# Show shapes of test and validation partitions\n",
        "print(\"Validation matrix shape:\", X_val.shape)\n",
        "print(\"Testing matrix shape:\", X_test.shape)"
      ],
      "execution_count": 9,
      "outputs": [
        {
          "output_type": "stream",
          "text": [
            "Validation matrix shape: (5000, 32, 32, 3)\n",
            "Testing matrix shape: (5000, 32, 32, 3)\n"
          ],
          "name": "stdout"
        }
      ]
    },
    {
      "cell_type": "code",
      "metadata": {
        "id": "Eo5FvhBYubiQ"
      },
      "source": [
        "# Import depence for CNN\n",
        "from keras.models import Model\n",
        "from keras.layers import Input, Conv2D, MaxPool2D, Flatten, Dense, Dropout"
      ],
      "execution_count": 10,
      "outputs": []
    },
    {
      "cell_type": "code",
      "metadata": {
        "id": "Hrbz0cUmtuU7"
      },
      "source": [
        "# Define the model\n",
        "input_layer = Input(shape=(X_train.shape[1],X_train.shape[2], X_train.shape[3]))\n",
        "conv_layer_1 = Conv2D(filters=8, kernel_size=(3, 3), activation='relu')(input_layer)\n",
        "maxpool_layer_1 = MaxPool2D(pool_size=(2, 2))(conv_layer_1)\n",
        "conv_layer_2 = Conv2D(filters=16, kernel_size=(3, 3), activation='relu')(maxpool_layer_1)\n",
        "maxpool_layer_2 = MaxPool2D(pool_size=(2, 2))(conv_layer_2)\n",
        "conv_layer_3 = Conv2D(filters=32, kernel_size=(3, 3), activation='relu')(maxpool_layer_2)\n",
        "flatten_layer = Flatten()(conv_layer_3)\n",
        "dense_layer = Dense(128, activation='relu')(flatten_layer)\n",
        "dropout = Dropout(rate=0.4)(dense_layer)\n",
        "output_layer = Dense(10, activation='softmax')(dropout)\n",
        "model= Model(inputs=input_layer, outputs=output_layer)"
      ],
      "execution_count": 11,
      "outputs": []
    },
    {
      "cell_type": "code",
      "metadata": {
        "id": "Dzt4Th7iV1tF",
        "colab": {
          "base_uri": "https://localhost:8080/"
        },
        "outputId": "e2452409-1f19-46d8-8856-c03805ef631c"
      },
      "source": [
        "# Show a summary of the model\n",
        "model.summary()"
      ],
      "execution_count": 12,
      "outputs": [
        {
          "output_type": "stream",
          "text": [
            "Model: \"model\"\n",
            "_________________________________________________________________\n",
            "Layer (type)                 Output Shape              Param #   \n",
            "=================================================================\n",
            "input_1 (InputLayer)         [(None, 32, 32, 3)]       0         \n",
            "_________________________________________________________________\n",
            "conv2d (Conv2D)              (None, 30, 30, 8)         224       \n",
            "_________________________________________________________________\n",
            "max_pooling2d (MaxPooling2D) (None, 15, 15, 8)         0         \n",
            "_________________________________________________________________\n",
            "conv2d_1 (Conv2D)            (None, 13, 13, 16)        1168      \n",
            "_________________________________________________________________\n",
            "max_pooling2d_1 (MaxPooling2 (None, 6, 6, 16)          0         \n",
            "_________________________________________________________________\n",
            "conv2d_2 (Conv2D)            (None, 4, 4, 32)          4640      \n",
            "_________________________________________________________________\n",
            "flatten (Flatten)            (None, 512)               0         \n",
            "_________________________________________________________________\n",
            "dense (Dense)                (None, 128)               65664     \n",
            "_________________________________________________________________\n",
            "dropout (Dropout)            (None, 128)               0         \n",
            "_________________________________________________________________\n",
            "dense_1 (Dense)              (None, 10)                1290      \n",
            "=================================================================\n",
            "Total params: 72,986\n",
            "Trainable params: 72,986\n",
            "Non-trainable params: 0\n",
            "_________________________________________________________________\n"
          ],
          "name": "stdout"
        }
      ]
    },
    {
      "cell_type": "code",
      "metadata": {
        "id": "bFM5py6aV4DM"
      },
      "source": [
        "# Compile the model\n",
        "model.compile(loss='categorical_crossentropy', optimizer='adam', \n",
        "              metrics=['accuracy'])"
      ],
      "execution_count": 13,
      "outputs": []
    },
    {
      "cell_type": "code",
      "metadata": {
        "id": "-a6viyT4V_9_",
        "colab": {
          "base_uri": "https://localhost:8080/"
        },
        "outputId": "86f68260-35ca-4cf6-ac4e-7f4db034fb79"
      },
      "source": [
        "# Train the model\n",
        "history = model.fit(X_train_fl, y_train_oh, epochs=50, batch_size=128,\n",
        "                    validation_data=(X_val, y_val))"
      ],
      "execution_count": 14,
      "outputs": [
        {
          "output_type": "stream",
          "text": [
            "Epoch 1/50\n",
            "391/391 [==============================] - 35s 7ms/step - loss: 2.0260 - accuracy: 0.2524 - val_loss: 1.5450 - val_accuracy: 0.4306\n",
            "Epoch 2/50\n",
            "391/391 [==============================] - 2s 5ms/step - loss: 1.5409 - accuracy: 0.4290 - val_loss: 1.3967 - val_accuracy: 0.4952\n",
            "Epoch 3/50\n",
            "391/391 [==============================] - 2s 5ms/step - loss: 1.4339 - accuracy: 0.4794 - val_loss: 1.3033 - val_accuracy: 0.5288\n",
            "Epoch 4/50\n",
            "391/391 [==============================] - 2s 5ms/step - loss: 1.3517 - accuracy: 0.5122 - val_loss: 1.2601 - val_accuracy: 0.5520\n",
            "Epoch 5/50\n",
            "391/391 [==============================] - 2s 5ms/step - loss: 1.2920 - accuracy: 0.5381 - val_loss: 1.1984 - val_accuracy: 0.5782\n",
            "Epoch 6/50\n",
            "391/391 [==============================] - 2s 5ms/step - loss: 1.2412 - accuracy: 0.5544 - val_loss: 1.1966 - val_accuracy: 0.5788\n",
            "Epoch 7/50\n",
            "391/391 [==============================] - 2s 5ms/step - loss: 1.2129 - accuracy: 0.5674 - val_loss: 1.1684 - val_accuracy: 0.5874\n",
            "Epoch 8/50\n",
            "391/391 [==============================] - 2s 5ms/step - loss: 1.1789 - accuracy: 0.5811 - val_loss: 1.1470 - val_accuracy: 0.5946\n",
            "Epoch 9/50\n",
            "391/391 [==============================] - 2s 5ms/step - loss: 1.1421 - accuracy: 0.5940 - val_loss: 1.1175 - val_accuracy: 0.6076\n",
            "Epoch 10/50\n",
            "391/391 [==============================] - 2s 5ms/step - loss: 1.1308 - accuracy: 0.5979 - val_loss: 1.1008 - val_accuracy: 0.6100\n",
            "Epoch 11/50\n",
            "391/391 [==============================] - 2s 5ms/step - loss: 1.1045 - accuracy: 0.6064 - val_loss: 1.0837 - val_accuracy: 0.6208\n",
            "Epoch 12/50\n",
            "391/391 [==============================] - 2s 5ms/step - loss: 1.0712 - accuracy: 0.6193 - val_loss: 1.0657 - val_accuracy: 0.6272\n",
            "Epoch 13/50\n",
            "391/391 [==============================] - 2s 5ms/step - loss: 1.0538 - accuracy: 0.6258 - val_loss: 1.0482 - val_accuracy: 0.6386\n",
            "Epoch 14/50\n",
            "391/391 [==============================] - 2s 5ms/step - loss: 1.0424 - accuracy: 0.6315 - val_loss: 1.0729 - val_accuracy: 0.6204\n",
            "Epoch 15/50\n",
            "391/391 [==============================] - 2s 5ms/step - loss: 1.0386 - accuracy: 0.6305 - val_loss: 1.0424 - val_accuracy: 0.6332\n",
            "Epoch 16/50\n",
            "391/391 [==============================] - 2s 5ms/step - loss: 1.0096 - accuracy: 0.6415 - val_loss: 1.0311 - val_accuracy: 0.6368\n",
            "Epoch 17/50\n",
            "391/391 [==============================] - 2s 5ms/step - loss: 1.0010 - accuracy: 0.6457 - val_loss: 1.0373 - val_accuracy: 0.6352\n",
            "Epoch 18/50\n",
            "391/391 [==============================] - 2s 5ms/step - loss: 0.9845 - accuracy: 0.6520 - val_loss: 1.0239 - val_accuracy: 0.6438\n",
            "Epoch 19/50\n",
            "391/391 [==============================] - 2s 5ms/step - loss: 0.9758 - accuracy: 0.6532 - val_loss: 1.0271 - val_accuracy: 0.6466\n",
            "Epoch 20/50\n",
            "391/391 [==============================] - 2s 5ms/step - loss: 0.9550 - accuracy: 0.6643 - val_loss: 1.0232 - val_accuracy: 0.6432\n",
            "Epoch 21/50\n",
            "391/391 [==============================] - 2s 5ms/step - loss: 0.9503 - accuracy: 0.6625 - val_loss: 1.0050 - val_accuracy: 0.6564\n",
            "Epoch 22/50\n",
            "391/391 [==============================] - 2s 5ms/step - loss: 0.9323 - accuracy: 0.6734 - val_loss: 0.9993 - val_accuracy: 0.6512\n",
            "Epoch 23/50\n",
            "391/391 [==============================] - 2s 5ms/step - loss: 0.9210 - accuracy: 0.6728 - val_loss: 1.0513 - val_accuracy: 0.6450\n",
            "Epoch 24/50\n",
            "391/391 [==============================] - 2s 5ms/step - loss: 0.9148 - accuracy: 0.6782 - val_loss: 0.9993 - val_accuracy: 0.6540\n",
            "Epoch 25/50\n",
            "391/391 [==============================] - 2s 5ms/step - loss: 0.9035 - accuracy: 0.6793 - val_loss: 1.0050 - val_accuracy: 0.6574\n",
            "Epoch 26/50\n",
            "391/391 [==============================] - 2s 5ms/step - loss: 0.8897 - accuracy: 0.6833 - val_loss: 0.9981 - val_accuracy: 0.6576\n",
            "Epoch 27/50\n",
            "391/391 [==============================] - 2s 5ms/step - loss: 0.8770 - accuracy: 0.6885 - val_loss: 1.0701 - val_accuracy: 0.6332\n",
            "Epoch 28/50\n",
            "391/391 [==============================] - 2s 5ms/step - loss: 0.8896 - accuracy: 0.6838 - val_loss: 0.9988 - val_accuracy: 0.6574\n",
            "Epoch 29/50\n",
            "391/391 [==============================] - 2s 5ms/step - loss: 0.8645 - accuracy: 0.6936 - val_loss: 0.9942 - val_accuracy: 0.6566\n",
            "Epoch 30/50\n",
            "391/391 [==============================] - 2s 5ms/step - loss: 0.8584 - accuracy: 0.6933 - val_loss: 1.0174 - val_accuracy: 0.6588\n",
            "Epoch 31/50\n",
            "391/391 [==============================] - 2s 5ms/step - loss: 0.8526 - accuracy: 0.6944 - val_loss: 1.0065 - val_accuracy: 0.6572\n",
            "Epoch 32/50\n",
            "391/391 [==============================] - 2s 5ms/step - loss: 0.8434 - accuracy: 0.7014 - val_loss: 0.9976 - val_accuracy: 0.6628\n",
            "Epoch 33/50\n",
            "391/391 [==============================] - 2s 5ms/step - loss: 0.8408 - accuracy: 0.6974 - val_loss: 0.9845 - val_accuracy: 0.6652\n",
            "Epoch 34/50\n",
            "391/391 [==============================] - 2s 5ms/step - loss: 0.8291 - accuracy: 0.7007 - val_loss: 1.0213 - val_accuracy: 0.6572\n",
            "Epoch 35/50\n",
            "391/391 [==============================] - 2s 5ms/step - loss: 0.8208 - accuracy: 0.7049 - val_loss: 1.0126 - val_accuracy: 0.6620\n",
            "Epoch 36/50\n",
            "391/391 [==============================] - 2s 5ms/step - loss: 0.8202 - accuracy: 0.7078 - val_loss: 1.0032 - val_accuracy: 0.6630\n",
            "Epoch 37/50\n",
            "391/391 [==============================] - 2s 5ms/step - loss: 0.8225 - accuracy: 0.7064 - val_loss: 1.0697 - val_accuracy: 0.6520\n",
            "Epoch 38/50\n",
            "391/391 [==============================] - 2s 5ms/step - loss: 0.8115 - accuracy: 0.7101 - val_loss: 1.0171 - val_accuracy: 0.6642\n",
            "Epoch 39/50\n",
            "391/391 [==============================] - 2s 5ms/step - loss: 0.8042 - accuracy: 0.7102 - val_loss: 1.0064 - val_accuracy: 0.6662\n",
            "Epoch 40/50\n",
            "391/391 [==============================] - 2s 5ms/step - loss: 0.7901 - accuracy: 0.7143 - val_loss: 0.9998 - val_accuracy: 0.6654\n",
            "Epoch 41/50\n",
            "391/391 [==============================] - 2s 5ms/step - loss: 0.7791 - accuracy: 0.7207 - val_loss: 1.0063 - val_accuracy: 0.6658\n",
            "Epoch 42/50\n",
            "391/391 [==============================] - 2s 5ms/step - loss: 0.7796 - accuracy: 0.7189 - val_loss: 1.0089 - val_accuracy: 0.6662\n",
            "Epoch 43/50\n",
            "391/391 [==============================] - 2s 5ms/step - loss: 0.7780 - accuracy: 0.7173 - val_loss: 1.0211 - val_accuracy: 0.6624\n",
            "Epoch 44/50\n",
            "391/391 [==============================] - 2s 5ms/step - loss: 0.7724 - accuracy: 0.7205 - val_loss: 1.0473 - val_accuracy: 0.6566\n",
            "Epoch 45/50\n",
            "391/391 [==============================] - 2s 5ms/step - loss: 0.7751 - accuracy: 0.7217 - val_loss: 1.0377 - val_accuracy: 0.6546\n",
            "Epoch 46/50\n",
            "391/391 [==============================] - 2s 5ms/step - loss: 0.7607 - accuracy: 0.7229 - val_loss: 1.0212 - val_accuracy: 0.6634\n",
            "Epoch 47/50\n",
            "391/391 [==============================] - 2s 5ms/step - loss: 0.7657 - accuracy: 0.7245 - val_loss: 1.0446 - val_accuracy: 0.6614\n",
            "Epoch 48/50\n",
            "391/391 [==============================] - 2s 5ms/step - loss: 0.7435 - accuracy: 0.7303 - val_loss: 1.0162 - val_accuracy: 0.6686\n",
            "Epoch 49/50\n",
            "391/391 [==============================] - 2s 5ms/step - loss: 0.7395 - accuracy: 0.7308 - val_loss: 1.0441 - val_accuracy: 0.6630\n",
            "Epoch 50/50\n",
            "391/391 [==============================] - 2s 5ms/step - loss: 0.7382 - accuracy: 0.7301 - val_loss: 1.0573 - val_accuracy: 0.6612\n"
          ],
          "name": "stdout"
        }
      ]
    },
    {
      "cell_type": "code",
      "metadata": {
        "id": "Hsc8-QX1xVWL"
      },
      "source": [
        "# Import dependence for visualization of images\n",
        "import matplotlib.pyplot as plt"
      ],
      "execution_count": null,
      "outputs": []
    },
    {
      "cell_type": "code",
      "metadata": {
        "id": "cAR15yICV6hU",
        "colab": {
          "base_uri": "https://localhost:8080/",
          "height": 295
        },
        "outputId": "10e7db37-b0c1-4803-ac64-98d56a8ba861"
      },
      "source": [
        "# Plot training and validation accuracy\n",
        "plt.plot(history.history['accuracy'])\n",
        "plt.plot(history.history['val_accuracy'])\n",
        "plt.title('Model accuracy')\n",
        "plt.ylabel('Accuracy')\n",
        "plt.xlabel('Epoch')\n",
        "plt.legend(['Train', 'Val'], loc='upper left')\n",
        "# plt.ylim(0, 1)\n",
        "plt.show()"
      ],
      "execution_count": null,
      "outputs": [
        {
          "output_type": "display_data",
          "data": {
            "image/png": "[encoded data removed]",
            "text/plain": [
              "<Figure size 432x288 with 1 Axes>"
            ]
          },
          "metadata": {
            "tags": [],
            "needs_background": "light"
          }
        }
      ]
    },
    {
      "cell_type": "code",
      "metadata": {
        "id": "-OM3GB9SV86n",
        "colab": {
          "base_uri": "https://localhost:8080/",
          "height": 295
        },
        "outputId": "7a6b1ae2-fbd9-4d86-8bca-604bf76d7e83"
      },
      "source": [
        "# Plot training and test loss\n",
        "plt.plot(history.history['loss']) \n",
        "plt.plot(history.history['val_loss']) \n",
        "plt.title('Model loss') \n",
        "plt.ylabel('Loss') \n",
        "plt.xlabel('Epoch') \n",
        "plt.legend(['Train', 'Val'], loc='upper left') \n",
        "plt.show()"
      ],
      "execution_count": null,
      "outputs": [
        {
          "output_type": "display_data",
          "data": {
            "image/png": "[encoded data removed]",
            "text/plain": [
              "<Figure size 432x288 with 1 Axes>"
            ]
          },
          "metadata": {
            "tags": [],
            "needs_background": "light"
          }
        }
      ]
    },
    {
      "cell_type": "markdown",
      "metadata": {
        "id": "z1huEX1wx5bn"
      },
      "source": [
        "## 2. Batch Normalization"
      ]
    },
    {
      "cell_type": "code",
      "metadata": {
        "id": "FEFeuHMNvQxy"
      },
      "source": [
        "from keras.layers import BatchNormalization\n",
        "from keras.optimizers import Adam"
      ],
      "execution_count": 32,
      "outputs": []
    },
    {
      "cell_type": "code",
      "metadata": {
        "id": "rZfVtoxky-8m"
      },
      "source": [
        "# Define the model\n",
        "input_layer = Input(shape=(X_train.shape[1],X_train.shape[2], X_train.shape[3]))\n",
        "conv_layer_1 = Conv2D(filters=8, kernel_size=(3, 3), activation='relu')(input_layer)\n",
        "bn_1 = BatchNormalization()(conv_layer_1)\n",
        "maxpool_layer_1 = MaxPool2D(pool_size=(2, 2))(bn_1)\n",
        "conv_layer_2 = Conv2D(filters=16, kernel_size=(3, 3), activation='relu')(maxpool_layer_1)\n",
        "bn_2 = BatchNormalization()(conv_layer_2)\n",
        "maxpool_layer_2 = MaxPool2D(pool_size=(2, 2))(bn_2)\n",
        "conv_layer_3 = Conv2D(filters=32, kernel_size=(3, 3), activation='relu')(maxpool_layer_2)\n",
        "bn_3 = BatchNormalization()(conv_layer_3)\n",
        "flatten_layer = Flatten()(bn_3)\n",
        "dense_layer = Dense(128, activation='relu')(flatten_layer)\n",
        "dropout = Dropout(rate=0.4)(dense_layer)\n",
        "output_layer = Dense(10, activation='softmax')(dropout)\n",
        "model= Model(inputs=input_layer, outputs=output_layer)"
      ],
      "execution_count": null,
      "outputs": []
    },
    {
      "cell_type": "code",
      "metadata": {
        "id": "jG1aPlHFze4L"
      },
      "source": [
        "# Compile the model\n",
        "model.compile(loss='categorical_crossentropy', optimizer=Adam(),\n",
        "              metrics=['accuracy'])"
      ],
      "execution_count": null,
      "outputs": []
    },
    {
      "cell_type": "code",
      "metadata": {
        "id": "UIJo6a5kze4P",
        "colab": {
          "base_uri": "https://localhost:8080/"
        },
        "outputId": "a3d774f4-574d-4727-f6f3-a2b0b15b781c"
      },
      "source": [
        "# Train the model\n",
        "history = model.fit(X_train_fl, y_train_oh, epochs=20, batch_size=128,\n",
        "                    validation_data=(X_val, y_val))"
      ],
      "execution_count": null,
      "outputs": [
        {
          "output_type": "stream",
          "text": [
            "Epoch 1/20\n",
            "391/391 [==============================] - 3s 6ms/step - loss: 2.0122 - accuracy: 0.3194 - val_loss: 1.8713 - val_accuracy: 0.3478\n",
            "Epoch 2/20\n",
            "391/391 [==============================] - 2s 5ms/step - loss: 1.3685 - accuracy: 0.5088 - val_loss: 1.2988 - val_accuracy: 0.5450\n",
            "Epoch 3/20\n",
            "391/391 [==============================] - 2s 5ms/step - loss: 1.2170 - accuracy: 0.5650 - val_loss: 1.4490 - val_accuracy: 0.5052\n",
            "Epoch 4/20\n",
            "391/391 [==============================] - 2s 5ms/step - loss: 1.1340 - accuracy: 0.5954 - val_loss: 1.1385 - val_accuracy: 0.5876\n",
            "Epoch 5/20\n",
            "391/391 [==============================] - 2s 5ms/step - loss: 1.0851 - accuracy: 0.6191 - val_loss: 1.0462 - val_accuracy: 0.6316\n",
            "Epoch 6/20\n",
            "391/391 [==============================] - 2s 5ms/step - loss: 1.0354 - accuracy: 0.6300 - val_loss: 1.1476 - val_accuracy: 0.6020\n",
            "Epoch 7/20\n",
            "391/391 [==============================] - 2s 5ms/step - loss: 0.9893 - accuracy: 0.6495 - val_loss: 1.1001 - val_accuracy: 0.6126\n",
            "Epoch 8/20\n",
            "391/391 [==============================] - 2s 5ms/step - loss: 0.9676 - accuracy: 0.6570 - val_loss: 0.9933 - val_accuracy: 0.6524\n",
            "Epoch 9/20\n",
            "391/391 [==============================] - 2s 5ms/step - loss: 0.9295 - accuracy: 0.6726 - val_loss: 1.2096 - val_accuracy: 0.5896\n",
            "Epoch 10/20\n",
            "391/391 [==============================] - 2s 5ms/step - loss: 0.9055 - accuracy: 0.6809 - val_loss: 1.0513 - val_accuracy: 0.6296\n",
            "Epoch 11/20\n",
            "391/391 [==============================] - 2s 5ms/step - loss: 0.8878 - accuracy: 0.6863 - val_loss: 0.9619 - val_accuracy: 0.6664\n",
            "Epoch 12/20\n",
            "391/391 [==============================] - 2s 5ms/step - loss: 0.8644 - accuracy: 0.6976 - val_loss: 0.9764 - val_accuracy: 0.6624\n",
            "Epoch 13/20\n",
            "391/391 [==============================] - 2s 5ms/step - loss: 0.8352 - accuracy: 0.7045 - val_loss: 1.0077 - val_accuracy: 0.6590\n",
            "Epoch 14/20\n",
            "391/391 [==============================] - 2s 5ms/step - loss: 0.8237 - accuracy: 0.7115 - val_loss: 1.0869 - val_accuracy: 0.6178\n",
            "Epoch 15/20\n",
            "391/391 [==============================] - 2s 5ms/step - loss: 0.8163 - accuracy: 0.7095 - val_loss: 0.9374 - val_accuracy: 0.6758\n",
            "Epoch 16/20\n",
            "391/391 [==============================] - 2s 5ms/step - loss: 0.7896 - accuracy: 0.7185 - val_loss: 1.0027 - val_accuracy: 0.6630\n",
            "Epoch 17/20\n",
            "391/391 [==============================] - 2s 5ms/step - loss: 0.7703 - accuracy: 0.7252 - val_loss: 0.9692 - val_accuracy: 0.6710\n",
            "Epoch 18/20\n",
            "391/391 [==============================] - 2s 5ms/step - loss: 0.7734 - accuracy: 0.7239 - val_loss: 1.0125 - val_accuracy: 0.6564\n",
            "Epoch 19/20\n",
            "391/391 [==============================] - 2s 5ms/step - loss: 0.7491 - accuracy: 0.7310 - val_loss: 0.9836 - val_accuracy: 0.6650\n",
            "Epoch 20/20\n",
            "391/391 [==============================] - 2s 5ms/step - loss: 0.7387 - accuracy: 0.7346 - val_loss: 0.9774 - val_accuracy: 0.6716\n"
          ],
          "name": "stdout"
        }
      ]
    },
    {
      "cell_type": "code",
      "metadata": {
        "id": "efPQki1pzZ9z"
      },
      "source": [
        "# Compile the model with new learning rate\n",
        "model= Model(inputs=input_layer, outputs=output_layer)\n",
        "model.compile(loss='categorical_crossentropy', optimizer=Adam(lr=0.01),\n",
        "              metrics=['accuracy'])"
      ],
      "execution_count": null,
      "outputs": []
    },
    {
      "cell_type": "code",
      "metadata": {
        "id": "Oo6f1rlo0qWs",
        "colab": {
          "base_uri": "https://localhost:8080/"
        },
        "outputId": "933ca179-741d-41bb-87cf-2179eaaedf03"
      },
      "source": [
        "# Train the model\n",
        "history = model.fit(X_train_fl, y_train_oh, epochs=20, batch_size=128,\n",
        "                    validation_data=(X_val, y_val))"
      ],
      "execution_count": null,
      "outputs": [
        {
          "output_type": "stream",
          "text": [
            "Epoch 1/20\n",
            "391/391 [==============================] - 3s 6ms/step - loss: 1.4178 - accuracy: 0.5138 - val_loss: 1.6915 - val_accuracy: 0.4800\n",
            "Epoch 2/20\n",
            "391/391 [==============================] - 2s 5ms/step - loss: 1.1125 - accuracy: 0.6114 - val_loss: 1.1555 - val_accuracy: 0.6024\n",
            "Epoch 3/20\n",
            "391/391 [==============================] - 2s 5ms/step - loss: 1.0316 - accuracy: 0.6370 - val_loss: 1.1446 - val_accuracy: 0.5988\n",
            "Epoch 4/20\n",
            "391/391 [==============================] - 2s 5ms/step - loss: 1.0058 - accuracy: 0.6461 - val_loss: 1.7267 - val_accuracy: 0.4510\n",
            "Epoch 5/20\n",
            "391/391 [==============================] - 2s 5ms/step - loss: 0.9673 - accuracy: 0.6588 - val_loss: 1.0988 - val_accuracy: 0.6274\n",
            "Epoch 6/20\n",
            "391/391 [==============================] - 2s 5ms/step - loss: 0.9538 - accuracy: 0.6670 - val_loss: 1.1695 - val_accuracy: 0.5926\n",
            "Epoch 7/20\n",
            "391/391 [==============================] - 2s 5ms/step - loss: 0.9199 - accuracy: 0.6777 - val_loss: 1.2536 - val_accuracy: 0.5978\n",
            "Epoch 8/20\n",
            "391/391 [==============================] - 2s 5ms/step - loss: 0.9063 - accuracy: 0.6817 - val_loss: 1.0437 - val_accuracy: 0.6368\n",
            "Epoch 9/20\n",
            "391/391 [==============================] - 2s 5ms/step - loss: 0.8715 - accuracy: 0.6919 - val_loss: 1.0438 - val_accuracy: 0.6554\n",
            "Epoch 10/20\n",
            "391/391 [==============================] - 2s 5ms/step - loss: 0.8819 - accuracy: 0.6876 - val_loss: 1.1353 - val_accuracy: 0.6372\n",
            "Epoch 11/20\n",
            "391/391 [==============================] - 2s 5ms/step - loss: 0.8637 - accuracy: 0.6951 - val_loss: 1.1353 - val_accuracy: 0.6202\n",
            "Epoch 12/20\n",
            "391/391 [==============================] - 2s 5ms/step - loss: 0.8337 - accuracy: 0.7055 - val_loss: 1.0660 - val_accuracy: 0.6360\n",
            "Epoch 13/20\n",
            "391/391 [==============================] - 2s 5ms/step - loss: 0.8328 - accuracy: 0.7043 - val_loss: 1.3260 - val_accuracy: 0.5750\n",
            "Epoch 14/20\n",
            "391/391 [==============================] - 2s 5ms/step - loss: 0.8222 - accuracy: 0.7054 - val_loss: 1.1200 - val_accuracy: 0.6294\n",
            "Epoch 15/20\n",
            "391/391 [==============================] - 2s 5ms/step - loss: 0.7997 - accuracy: 0.7183 - val_loss: 1.4806 - val_accuracy: 0.5752\n",
            "Epoch 16/20\n",
            "391/391 [==============================] - 2s 5ms/step - loss: 0.7886 - accuracy: 0.7193 - val_loss: 0.9945 - val_accuracy: 0.6640\n",
            "Epoch 17/20\n",
            "391/391 [==============================] - 2s 5ms/step - loss: 0.7783 - accuracy: 0.7222 - val_loss: 1.1047 - val_accuracy: 0.6438\n",
            "Epoch 18/20\n",
            "391/391 [==============================] - 2s 5ms/step - loss: 0.7824 - accuracy: 0.7235 - val_loss: 1.4996 - val_accuracy: 0.5650\n",
            "Epoch 19/20\n",
            "391/391 [==============================] - 2s 5ms/step - loss: 0.7629 - accuracy: 0.7308 - val_loss: 1.1194 - val_accuracy: 0.6578\n",
            "Epoch 20/20\n",
            "391/391 [==============================] - 2s 5ms/step - loss: 0.7577 - accuracy: 0.7287 - val_loss: 1.3540 - val_accuracy: 0.6296\n"
          ],
          "name": "stdout"
        }
      ]
    },
    {
      "cell_type": "markdown",
      "metadata": {
        "id": "-vsfjI7S2eCH"
      },
      "source": [
        "## 3. Data Augmentation"
      ]
    },
    {
      "cell_type": "code",
      "metadata": {
        "id": "JGqUrVUa063z"
      },
      "source": [
        "from keras.preprocessing.image import ImageDataGenerator"
      ],
      "execution_count": null,
      "outputs": []
    },
    {
      "cell_type": "code",
      "metadata": {
        "id": "yjoPmQc32nmw"
      },
      "source": [
        "# Define data generator\n",
        "train_datagen = ImageDataGenerator(\n",
        "    shear_range = 0.2,\n",
        "    zoom_range = 0.2,\n",
        "    horizontal_flip = True,\n",
        "    rotation_range = 10,\n",
        ")"
      ],
      "execution_count": null,
      "outputs": []
    },
    {
      "cell_type": "code",
      "metadata": {
        "id": "DeXelmgq6IkN"
      },
      "source": [
        "# Function to convert a categorical class to its corresponding string\n",
        "def class_to_string(class_int):\n",
        "    classes = [\"airplane\", \"automobile\", \"bird\", \"cat\", \"deer\", \"dog\", \"frog\",\n",
        "               \"horse\", \"ship\", \"truck\"]\n",
        "    return classes[class_int]"
      ],
      "execution_count": null,
      "outputs": []
    },
    {
      "cell_type": "code",
      "metadata": {
        "id": "VgMWPtwx6fTF"
      },
      "source": [
        "plt.rcParams['figure.figsize'] = (10,10)  # Configure figure size for \n",
        "                                          # appropriate visualization"
      ],
      "execution_count": null,
      "outputs": []
    },
    {
      "cell_type": "code",
      "metadata": {
        "id": "1gp_wWxK3xc5",
        "colab": {
          "base_uri": "https://localhost:8080/",
          "height": 607
        },
        "outputId": "806459df-fa84-4901-84e6-2241be822528"
      },
      "source": [
        "# Show generated data\n",
        "iterator = train_datagen.flow(X_train_fl, y_train_oh, batch_size=9)\n",
        "samples, labels = next(iterator)\n",
        "for i in range(9):\n",
        "    plt.subplot(3,3,i+1)\n",
        "    plt.imshow(samples[i], interpolation='none')\n",
        "    class_str = class_to_string(np.argmax(labels[i]))\n",
        "    plt.title(\"Class: \" + class_str)"
      ],
      "execution_count": null,
      "outputs": [
        {
          "output_type": "display_data",
          "data": {
            "image/png": "[encoded data removed]",
            "text/plain": [
              "<Figure size 720x720 with 9 Axes>"
            ]
          },
          "metadata": {
            "tags": [],
            "needs_background": "light"
          }
        }
      ]
    },
    {
      "cell_type": "code",
      "metadata": {
        "id": "Kj3tqJnv74Yn"
      },
      "source": [
        "# Compile the model with new learning rate\n",
        "model= Model(inputs=input_layer, outputs=output_layer)\n",
        "model.compile(loss='categorical_crossentropy', optimizer=Adam(lr=0.001),\n",
        "              metrics=['accuracy'])"
      ],
      "execution_count": null,
      "outputs": []
    },
    {
      "cell_type": "code",
      "metadata": {
        "id": "dW6z6oqi74Yu",
        "colab": {
          "base_uri": "https://localhost:8080/"
        },
        "outputId": "6a0c8fe3-2e5f-4c48-afc8-e202fced6844"
      },
      "source": [
        "# Train the model\n",
        "batch_size = 100\n",
        "steps_per_epoch = X_train.shape[0] / batch_size\n",
        "history = model.fit_generator(train_datagen.flow(X_train_fl, y_train_oh, \n",
        "                                                 batch_size=batch_size), \n",
        "                              epochs=20,\n",
        "                              steps_per_epoch=steps_per_epoch, \n",
        "                              validation_data=(X_val, y_val))"
      ],
      "execution_count": null,
      "outputs": [
        {
          "output_type": "stream",
          "text": [
            "/usr/local/lib/python3.7/dist-packages/tensorflow/python/keras/engine/training.py:1844: UserWarning: `Model.fit_generator` is deprecated and will be removed in a future version. Please use `Model.fit`, which supports generators.\n",
            "  warnings.warn('`Model.fit_generator` is deprecated and '\n"
          ],
          "name": "stderr"
        },
        {
          "output_type": "stream",
          "text": [
            "Epoch 1/20\n",
            "500/500 [==============================] - 22s 42ms/step - loss: 1.0730 - accuracy: 0.6369 - val_loss: 0.9021 - val_accuracy: 0.7030\n",
            "Epoch 2/20\n",
            "500/500 [==============================] - 21s 41ms/step - loss: 0.9916 - accuracy: 0.6593 - val_loss: 0.9643 - val_accuracy: 0.6844\n",
            "Epoch 3/20\n",
            "500/500 [==============================] - 21s 41ms/step - loss: 0.9574 - accuracy: 0.6725 - val_loss: 0.8446 - val_accuracy: 0.7114\n",
            "Epoch 4/20\n",
            "500/500 [==============================] - 20s 41ms/step - loss: 0.9465 - accuracy: 0.6741 - val_loss: 0.9034 - val_accuracy: 0.6986\n",
            "Epoch 5/20\n",
            "500/500 [==============================] - 20s 41ms/step - loss: 0.9380 - accuracy: 0.6742 - val_loss: 0.9091 - val_accuracy: 0.6976\n",
            "Epoch 6/20\n",
            "500/500 [==============================] - 20s 41ms/step - loss: 0.9338 - accuracy: 0.6785 - val_loss: 0.9269 - val_accuracy: 0.6980\n",
            "Epoch 7/20\n",
            "500/500 [==============================] - 21s 41ms/step - loss: 0.9208 - accuracy: 0.6798 - val_loss: 0.8296 - val_accuracy: 0.7162\n",
            "Epoch 8/20\n",
            "500/500 [==============================] - 21s 41ms/step - loss: 0.9044 - accuracy: 0.6815 - val_loss: 0.8509 - val_accuracy: 0.7082\n",
            "Epoch 9/20\n",
            "500/500 [==============================] - 21s 41ms/step - loss: 0.9102 - accuracy: 0.6850 - val_loss: 0.8672 - val_accuracy: 0.7096\n",
            "Epoch 10/20\n",
            "500/500 [==============================] - 20s 41ms/step - loss: 0.8996 - accuracy: 0.6866 - val_loss: 0.8487 - val_accuracy: 0.7152\n",
            "Epoch 11/20\n",
            "500/500 [==============================] - 21s 41ms/step - loss: 0.8919 - accuracy: 0.6905 - val_loss: 0.8324 - val_accuracy: 0.7164\n",
            "Epoch 12/20\n",
            "500/500 [==============================] - 21s 41ms/step - loss: 0.9028 - accuracy: 0.6822 - val_loss: 0.8559 - val_accuracy: 0.7104\n",
            "Epoch 13/20\n",
            "500/500 [==============================] - 20s 41ms/step - loss: 0.9026 - accuracy: 0.6840 - val_loss: 0.8998 - val_accuracy: 0.6928\n",
            "Epoch 14/20\n",
            "500/500 [==============================] - 21s 41ms/step - loss: 0.8880 - accuracy: 0.6905 - val_loss: 0.8518 - val_accuracy: 0.7120\n",
            "Epoch 15/20\n",
            "500/500 [==============================] - 21s 42ms/step - loss: 0.8963 - accuracy: 0.6878 - val_loss: 0.8439 - val_accuracy: 0.7148\n",
            "Epoch 16/20\n",
            "500/500 [==============================] - 21s 41ms/step - loss: 0.8824 - accuracy: 0.6928 - val_loss: 0.8783 - val_accuracy: 0.7032\n",
            "Epoch 17/20\n",
            "500/500 [==============================] - 21s 41ms/step - loss: 0.8811 - accuracy: 0.6971 - val_loss: 0.8241 - val_accuracy: 0.7148\n",
            "Epoch 18/20\n",
            "500/500 [==============================] - 21s 41ms/step - loss: 0.8740 - accuracy: 0.6946 - val_loss: 0.9507 - val_accuracy: 0.6830\n",
            "Epoch 19/20\n",
            "500/500 [==============================] - 21s 41ms/step - loss: 0.8783 - accuracy: 0.6916 - val_loss: 0.8319 - val_accuracy: 0.7170\n",
            "Epoch 20/20\n",
            "500/500 [==============================] - 21s 41ms/step - loss: 0.8652 - accuracy: 0.6992 - val_loss: 0.8095 - val_accuracy: 0.7228\n"
          ],
          "name": "stdout"
        }
      ]
    },
    {
      "cell_type": "code",
      "metadata": {
        "id": "TGTb98saDb6J",
        "colab": {
          "base_uri": "https://localhost:8080/"
        },
        "outputId": "6101e87d-6250-4b8f-b9f1-22f3f53edd89"
      },
      "source": [
        "# Train the model\n",
        "batch_size = 100\n",
        "steps_per_epoch = X_train.shape[0] / batch_size\n",
        "history = model.fit_generator(train_datagen.flow(X_train_fl, y_train_oh, \n",
        "                                                 batch_size=batch_size), \n",
        "                              epochs=100,\n",
        "                              steps_per_epoch=steps_per_epoch, \n",
        "                              validation_data=(X_val, y_val))"
      ],
      "execution_count": null,
      "outputs": [
        {
          "output_type": "stream",
          "text": [
            "Epoch 1/100\n",
            "  3/500 [..............................] - ETA: 20s - loss: 0.8548 - accuracy: 0.6933"
          ],
          "name": "stdout"
        },
        {
          "output_type": "stream",
          "text": [
            "/usr/local/lib/python3.7/dist-packages/tensorflow/python/keras/engine/training.py:1844: UserWarning: `Model.fit_generator` is deprecated and will be removed in a future version. Please use `Model.fit`, which supports generators.\n",
            "  warnings.warn('`Model.fit_generator` is deprecated and '\n"
          ],
          "name": "stderr"
        },
        {
          "output_type": "stream",
          "text": [
            "500/500 [==============================] - 21s 42ms/step - loss: 0.8692 - accuracy: 0.6958 - val_loss: 0.8258 - val_accuracy: 0.7176\n",
            "Epoch 2/100\n",
            "500/500 [==============================] - 21s 41ms/step - loss: 0.8750 - accuracy: 0.6970 - val_loss: 0.8469 - val_accuracy: 0.7142\n",
            "Epoch 3/100\n",
            "500/500 [==============================] - 21s 42ms/step - loss: 0.8727 - accuracy: 0.6964 - val_loss: 0.8996 - val_accuracy: 0.7050\n",
            "Epoch 4/100\n",
            "500/500 [==============================] - 20s 41ms/step - loss: 0.8633 - accuracy: 0.6999 - val_loss: 0.8129 - val_accuracy: 0.7200\n",
            "Epoch 5/100\n",
            "500/500 [==============================] - 21s 42ms/step - loss: 0.8607 - accuracy: 0.7003 - val_loss: 0.8292 - val_accuracy: 0.7170\n",
            "Epoch 6/100\n",
            "500/500 [==============================] - 21s 42ms/step - loss: 0.8608 - accuracy: 0.7008 - val_loss: 0.8856 - val_accuracy: 0.7050\n",
            "Epoch 7/100\n",
            "500/500 [==============================] - 21s 41ms/step - loss: 0.8646 - accuracy: 0.6994 - val_loss: 0.8282 - val_accuracy: 0.7176\n",
            "Epoch 8/100\n",
            "500/500 [==============================] - 20s 41ms/step - loss: 0.8639 - accuracy: 0.7010 - val_loss: 0.8169 - val_accuracy: 0.7286\n",
            "Epoch 9/100\n",
            "500/500 [==============================] - 20s 41ms/step - loss: 0.8644 - accuracy: 0.6998 - val_loss: 0.8156 - val_accuracy: 0.7220\n",
            "Epoch 10/100\n",
            "500/500 [==============================] - 21s 41ms/step - loss: 0.8601 - accuracy: 0.7010 - val_loss: 0.8695 - val_accuracy: 0.7094\n",
            "Epoch 11/100\n",
            "500/500 [==============================] - 21s 41ms/step - loss: 0.8539 - accuracy: 0.7042 - val_loss: 0.8146 - val_accuracy: 0.7210\n",
            "Epoch 12/100\n",
            "500/500 [==============================] - 20s 41ms/step - loss: 0.8602 - accuracy: 0.7010 - val_loss: 0.8544 - val_accuracy: 0.7128\n",
            "Epoch 13/100\n",
            "500/500 [==============================] - 20s 41ms/step - loss: 0.8521 - accuracy: 0.7035 - val_loss: 0.7793 - val_accuracy: 0.7340\n",
            "Epoch 14/100\n",
            "500/500 [==============================] - 20s 41ms/step - loss: 0.8516 - accuracy: 0.7030 - val_loss: 0.8080 - val_accuracy: 0.7252\n",
            "Epoch 15/100\n",
            "500/500 [==============================] - 20s 41ms/step - loss: 0.8491 - accuracy: 0.7041 - val_loss: 0.7816 - val_accuracy: 0.7364\n",
            "Epoch 16/100\n",
            "500/500 [==============================] - 21s 41ms/step - loss: 0.8503 - accuracy: 0.7020 - val_loss: 0.8807 - val_accuracy: 0.7056\n",
            "Epoch 17/100\n",
            "500/500 [==============================] - 20s 41ms/step - loss: 0.8507 - accuracy: 0.7062 - val_loss: 0.7995 - val_accuracy: 0.7314\n",
            "Epoch 18/100\n",
            "500/500 [==============================] - 21s 41ms/step - loss: 0.8452 - accuracy: 0.7067 - val_loss: 0.8140 - val_accuracy: 0.7204\n",
            "Epoch 19/100\n",
            "500/500 [==============================] - 20s 41ms/step - loss: 0.8417 - accuracy: 0.7059 - val_loss: 0.8295 - val_accuracy: 0.7156\n",
            "Epoch 20/100\n",
            "500/500 [==============================] - 20s 41ms/step - loss: 0.8400 - accuracy: 0.7082 - val_loss: 0.8054 - val_accuracy: 0.7264\n",
            "Epoch 21/100\n",
            "500/500 [==============================] - 20s 41ms/step - loss: 0.8445 - accuracy: 0.7045 - val_loss: 0.8226 - val_accuracy: 0.7184\n",
            "Epoch 22/100\n",
            "500/500 [==============================] - 20s 41ms/step - loss: 0.8418 - accuracy: 0.7058 - val_loss: 0.8520 - val_accuracy: 0.7158\n",
            "Epoch 23/100\n",
            "500/500 [==============================] - 20s 41ms/step - loss: 0.8365 - accuracy: 0.7078 - val_loss: 0.7900 - val_accuracy: 0.7274\n",
            "Epoch 24/100\n",
            "500/500 [==============================] - 21s 41ms/step - loss: 0.8421 - accuracy: 0.7062 - val_loss: 0.8552 - val_accuracy: 0.7144\n",
            "Epoch 25/100\n",
            "500/500 [==============================] - 21s 41ms/step - loss: 0.8410 - accuracy: 0.7049 - val_loss: 0.8042 - val_accuracy: 0.7226\n",
            "Epoch 26/100\n",
            "500/500 [==============================] - 21s 42ms/step - loss: 0.8385 - accuracy: 0.7078 - val_loss: 0.8837 - val_accuracy: 0.7098\n",
            "Epoch 27/100\n",
            "500/500 [==============================] - 22s 43ms/step - loss: 0.8360 - accuracy: 0.7050 - val_loss: 0.7962 - val_accuracy: 0.7300\n",
            "Epoch 28/100\n",
            "500/500 [==============================] - 21s 42ms/step - loss: 0.8405 - accuracy: 0.7086 - val_loss: 0.9357 - val_accuracy: 0.6996\n",
            "Epoch 29/100\n",
            "500/500 [==============================] - 22s 43ms/step - loss: 0.8332 - accuracy: 0.7061 - val_loss: 0.8300 - val_accuracy: 0.7188\n",
            "Epoch 30/100\n",
            "500/500 [==============================] - 21s 42ms/step - loss: 0.8310 - accuracy: 0.7110 - val_loss: 0.8007 - val_accuracy: 0.7290\n",
            "Epoch 31/100\n",
            "500/500 [==============================] - 21s 42ms/step - loss: 0.8329 - accuracy: 0.7100 - val_loss: 0.8610 - val_accuracy: 0.7102\n",
            "Epoch 32/100\n",
            "500/500 [==============================] - 21s 42ms/step - loss: 0.8384 - accuracy: 0.7083 - val_loss: 0.8012 - val_accuracy: 0.7254\n",
            "Epoch 33/100\n",
            "500/500 [==============================] - 21s 42ms/step - loss: 0.8363 - accuracy: 0.7083 - val_loss: 0.8276 - val_accuracy: 0.7296\n",
            "Epoch 34/100\n",
            "500/500 [==============================] - 21s 42ms/step - loss: 0.8345 - accuracy: 0.7089 - val_loss: 0.8308 - val_accuracy: 0.7192\n",
            "Epoch 35/100\n",
            "500/500 [==============================] - 21s 42ms/step - loss: 0.8357 - accuracy: 0.7104 - val_loss: 0.8344 - val_accuracy: 0.7218\n",
            "Epoch 36/100\n",
            "500/500 [==============================] - 21s 42ms/step - loss: 0.8265 - accuracy: 0.7113 - val_loss: 0.7856 - val_accuracy: 0.7350\n",
            "Epoch 37/100\n",
            "500/500 [==============================] - 21s 41ms/step - loss: 0.8255 - accuracy: 0.7139 - val_loss: 0.8504 - val_accuracy: 0.7144\n",
            "Epoch 38/100\n",
            "500/500 [==============================] - 21s 42ms/step - loss: 0.8263 - accuracy: 0.7124 - val_loss: 0.8145 - val_accuracy: 0.7232\n",
            "Epoch 39/100\n",
            "500/500 [==============================] - 21s 42ms/step - loss: 0.8273 - accuracy: 0.7111 - val_loss: 0.8144 - val_accuracy: 0.7276\n",
            "Epoch 40/100\n",
            "500/500 [==============================] - 21s 42ms/step - loss: 0.8285 - accuracy: 0.7114 - val_loss: 0.8266 - val_accuracy: 0.7148\n",
            "Epoch 41/100\n",
            "500/500 [==============================] - 21s 42ms/step - loss: 0.8235 - accuracy: 0.7120 - val_loss: 0.8014 - val_accuracy: 0.7214\n",
            "Epoch 42/100\n",
            "500/500 [==============================] - 21s 42ms/step - loss: 0.8261 - accuracy: 0.7108 - val_loss: 0.8047 - val_accuracy: 0.7250\n",
            "Epoch 43/100\n",
            "500/500 [==============================] - 21s 42ms/step - loss: 0.8241 - accuracy: 0.7128 - val_loss: 0.7951 - val_accuracy: 0.7294\n",
            "Epoch 44/100\n",
            "500/500 [==============================] - 21s 42ms/step - loss: 0.8244 - accuracy: 0.7119 - val_loss: 0.8564 - val_accuracy: 0.7142\n",
            "Epoch 45/100\n",
            "500/500 [==============================] - 21s 42ms/step - loss: 0.8216 - accuracy: 0.7143 - val_loss: 0.8459 - val_accuracy: 0.7084\n",
            "Epoch 46/100\n",
            "500/500 [==============================] - 21s 42ms/step - loss: 0.8271 - accuracy: 0.7117 - val_loss: 0.7887 - val_accuracy: 0.7310\n",
            "Epoch 47/100\n",
            "500/500 [==============================] - 21s 42ms/step - loss: 0.8185 - accuracy: 0.7146 - val_loss: 0.8171 - val_accuracy: 0.7276\n",
            "Epoch 48/100\n",
            "500/500 [==============================] - 21s 42ms/step - loss: 0.8200 - accuracy: 0.7150 - val_loss: 0.7875 - val_accuracy: 0.7294\n",
            "Epoch 49/100\n",
            "500/500 [==============================] - 21s 42ms/step - loss: 0.8207 - accuracy: 0.7149 - val_loss: 0.7813 - val_accuracy: 0.7328\n",
            "Epoch 50/100\n",
            "500/500 [==============================] - 21s 42ms/step - loss: 0.8143 - accuracy: 0.7155 - val_loss: 0.8266 - val_accuracy: 0.7270\n",
            "Epoch 51/100\n",
            "500/500 [==============================] - 21s 42ms/step - loss: 0.8125 - accuracy: 0.7177 - val_loss: 0.7859 - val_accuracy: 0.7346\n",
            "Epoch 52/100\n",
            "500/500 [==============================] - 21s 42ms/step - loss: 0.8195 - accuracy: 0.7130 - val_loss: 0.7708 - val_accuracy: 0.7330\n",
            "Epoch 53/100\n",
            "500/500 [==============================] - 21s 42ms/step - loss: 0.8203 - accuracy: 0.7145 - val_loss: 0.8145 - val_accuracy: 0.7212\n",
            "Epoch 54/100\n",
            "500/500 [==============================] - 21s 42ms/step - loss: 0.8145 - accuracy: 0.7157 - val_loss: 0.7607 - val_accuracy: 0.7416\n",
            "Epoch 55/100\n",
            "500/500 [==============================] - 21s 42ms/step - loss: 0.8166 - accuracy: 0.7141 - val_loss: 0.7645 - val_accuracy: 0.7384\n",
            "Epoch 56/100\n",
            "500/500 [==============================] - 21s 42ms/step - loss: 0.8154 - accuracy: 0.7163 - val_loss: 0.7974 - val_accuracy: 0.7330\n",
            "Epoch 57/100\n",
            "500/500 [==============================] - 21s 42ms/step - loss: 0.8077 - accuracy: 0.7168 - val_loss: 0.7872 - val_accuracy: 0.7298\n",
            "Epoch 58/100\n",
            "500/500 [==============================] - 21s 42ms/step - loss: 0.8141 - accuracy: 0.7139 - val_loss: 0.7462 - val_accuracy: 0.7438\n",
            "Epoch 59/100\n",
            "500/500 [==============================] - 21s 42ms/step - loss: 0.8167 - accuracy: 0.7153 - val_loss: 0.7890 - val_accuracy: 0.7292\n",
            "Epoch 60/100\n",
            "500/500 [==============================] - 21s 42ms/step - loss: 0.8108 - accuracy: 0.7178 - val_loss: 0.9014 - val_accuracy: 0.7038\n",
            "Epoch 61/100\n",
            "500/500 [==============================] - 21s 43ms/step - loss: 0.8092 - accuracy: 0.7182 - val_loss: 0.7830 - val_accuracy: 0.7314\n",
            "Epoch 62/100\n",
            "500/500 [==============================] - 21s 42ms/step - loss: 0.8057 - accuracy: 0.7178 - val_loss: 0.8165 - val_accuracy: 0.7174\n",
            "Epoch 63/100\n",
            "500/500 [==============================] - 21s 42ms/step - loss: 0.8061 - accuracy: 0.7189 - val_loss: 0.8131 - val_accuracy: 0.7324\n",
            "Epoch 64/100\n",
            "500/500 [==============================] - 21s 42ms/step - loss: 0.8147 - accuracy: 0.7158 - val_loss: 0.7647 - val_accuracy: 0.7404\n",
            "Epoch 65/100\n",
            "500/500 [==============================] - 21s 43ms/step - loss: 0.8094 - accuracy: 0.7186 - val_loss: 0.7854 - val_accuracy: 0.7336\n",
            "Epoch 66/100\n",
            "500/500 [==============================] - 21s 42ms/step - loss: 0.8085 - accuracy: 0.7171 - val_loss: 0.8345 - val_accuracy: 0.7270\n",
            "Epoch 67/100\n",
            "500/500 [==============================] - 21s 42ms/step - loss: 0.8060 - accuracy: 0.7186 - val_loss: 0.7881 - val_accuracy: 0.7272\n",
            "Epoch 68/100\n",
            "500/500 [==============================] - 22s 43ms/step - loss: 0.8076 - accuracy: 0.7170 - val_loss: 0.7762 - val_accuracy: 0.7400\n",
            "Epoch 69/100\n",
            "500/500 [==============================] - 22s 43ms/step - loss: 0.8042 - accuracy: 0.7184 - val_loss: 0.8429 - val_accuracy: 0.7194\n",
            "Epoch 70/100\n",
            "500/500 [==============================] - 21s 43ms/step - loss: 0.8096 - accuracy: 0.7164 - val_loss: 0.8050 - val_accuracy: 0.7298\n",
            "Epoch 71/100\n",
            "500/500 [==============================] - 22s 44ms/step - loss: 0.7987 - accuracy: 0.7173 - val_loss: 0.7480 - val_accuracy: 0.7458\n",
            "Epoch 72/100\n",
            "500/500 [==============================] - 22s 43ms/step - loss: 0.8027 - accuracy: 0.7188 - val_loss: 0.8007 - val_accuracy: 0.7328\n",
            "Epoch 73/100\n",
            "500/500 [==============================] - 22s 43ms/step - loss: 0.8019 - accuracy: 0.7213 - val_loss: 0.8011 - val_accuracy: 0.7284\n",
            "Epoch 74/100\n",
            "500/500 [==============================] - 22s 43ms/step - loss: 0.8001 - accuracy: 0.7190 - val_loss: 0.7939 - val_accuracy: 0.7280\n",
            "Epoch 75/100\n",
            "500/500 [==============================] - 22s 43ms/step - loss: 0.8048 - accuracy: 0.7190 - val_loss: 0.8297 - val_accuracy: 0.7188\n",
            "Epoch 76/100\n",
            "500/500 [==============================] - 22s 43ms/step - loss: 0.8037 - accuracy: 0.7194 - val_loss: 0.8307 - val_accuracy: 0.7172\n",
            "Epoch 77/100\n",
            "500/500 [==============================] - 22s 43ms/step - loss: 0.7986 - accuracy: 0.7234 - val_loss: 0.7973 - val_accuracy: 0.7258\n",
            "Epoch 78/100\n",
            "500/500 [==============================] - 22s 43ms/step - loss: 0.8048 - accuracy: 0.7212 - val_loss: 0.7736 - val_accuracy: 0.7378\n",
            "Epoch 79/100\n",
            "500/500 [==============================] - 22s 44ms/step - loss: 0.8006 - accuracy: 0.7211 - val_loss: 0.8160 - val_accuracy: 0.7226\n",
            "Epoch 80/100\n",
            "500/500 [==============================] - 22s 44ms/step - loss: 0.7980 - accuracy: 0.7200 - val_loss: 0.7840 - val_accuracy: 0.7286\n",
            "Epoch 81/100\n",
            "500/500 [==============================] - 22s 43ms/step - loss: 0.7934 - accuracy: 0.7212 - val_loss: 0.7773 - val_accuracy: 0.7342\n",
            "Epoch 82/100\n",
            "500/500 [==============================] - 22s 43ms/step - loss: 0.7963 - accuracy: 0.7205 - val_loss: 0.7980 - val_accuracy: 0.7334\n",
            "Epoch 83/100\n",
            "500/500 [==============================] - 22s 44ms/step - loss: 0.7957 - accuracy: 0.7209 - val_loss: 0.7746 - val_accuracy: 0.7360\n",
            "Epoch 84/100\n",
            "500/500 [==============================] - 22s 43ms/step - loss: 0.8003 - accuracy: 0.7203 - val_loss: 0.7854 - val_accuracy: 0.7324\n",
            "Epoch 85/100\n",
            "500/500 [==============================] - 22s 44ms/step - loss: 0.7968 - accuracy: 0.7229 - val_loss: 0.7809 - val_accuracy: 0.7368\n",
            "Epoch 86/100\n",
            "500/500 [==============================] - 22s 44ms/step - loss: 0.7954 - accuracy: 0.7216 - val_loss: 0.7942 - val_accuracy: 0.7344\n",
            "Epoch 87/100\n",
            "500/500 [==============================] - 22s 44ms/step - loss: 0.7959 - accuracy: 0.7211 - val_loss: 0.7621 - val_accuracy: 0.7410\n",
            "Epoch 88/100\n",
            "500/500 [==============================] - 22s 44ms/step - loss: 0.7980 - accuracy: 0.7210 - val_loss: 0.8066 - val_accuracy: 0.7268\n",
            "Epoch 89/100\n",
            "500/500 [==============================] - 22s 43ms/step - loss: 0.8006 - accuracy: 0.7224 - val_loss: 0.7783 - val_accuracy: 0.7338\n",
            "Epoch 90/100\n",
            "500/500 [==============================] - 21s 43ms/step - loss: 0.7957 - accuracy: 0.7216 - val_loss: 0.7612 - val_accuracy: 0.7408\n",
            "Epoch 91/100\n",
            "500/500 [==============================] - 22s 44ms/step - loss: 0.7978 - accuracy: 0.7242 - val_loss: 0.8119 - val_accuracy: 0.7266\n",
            "Epoch 92/100\n",
            "500/500 [==============================] - 21s 43ms/step - loss: 0.7921 - accuracy: 0.7229 - val_loss: 0.7510 - val_accuracy: 0.7464\n",
            "Epoch 93/100\n",
            "500/500 [==============================] - 21s 43ms/step - loss: 0.7910 - accuracy: 0.7229 - val_loss: 0.7731 - val_accuracy: 0.7396\n",
            "Epoch 94/100\n",
            "500/500 [==============================] - 21s 43ms/step - loss: 0.7961 - accuracy: 0.7244 - val_loss: 0.8239 - val_accuracy: 0.7180\n",
            "Epoch 95/100\n",
            "500/500 [==============================] - 21s 43ms/step - loss: 0.7975 - accuracy: 0.7210 - val_loss: 0.7963 - val_accuracy: 0.7270\n",
            "Epoch 96/100\n",
            "500/500 [==============================] - 21s 43ms/step - loss: 0.7935 - accuracy: 0.7249 - val_loss: 0.7892 - val_accuracy: 0.7280\n",
            "Epoch 97/100\n",
            "500/500 [==============================] - 22s 43ms/step - loss: 0.7968 - accuracy: 0.7226 - val_loss: 0.7815 - val_accuracy: 0.7328\n",
            "Epoch 98/100\n",
            "500/500 [==============================] - 21s 43ms/step - loss: 0.7912 - accuracy: 0.7223 - val_loss: 0.7794 - val_accuracy: 0.7294\n",
            "Epoch 99/100\n",
            "500/500 [==============================] - 22s 43ms/step - loss: 0.7920 - accuracy: 0.7219 - val_loss: 0.7886 - val_accuracy: 0.7326\n",
            "Epoch 100/100\n",
            "500/500 [==============================] - 21s 43ms/step - loss: 0.7943 - accuracy: 0.7236 - val_loss: 0.7949 - val_accuracy: 0.7310\n"
          ],
          "name": "stdout"
        }
      ]
    },
    {
      "cell_type": "markdown",
      "metadata": {
        "id": "ZBnVN5aoL_MJ"
      },
      "source": [
        "## 4. Transfer Learning"
      ]
    },
    {
      "cell_type": "code",
      "metadata": {
        "id": "VaqBTy80-PfP"
      },
      "source": [
        "# Import dependences for transfer learning\n",
        "from keras.applications import Xception\n",
        "from keras.models import Sequential\n",
        "from keras.layers import UpSampling2D\n",
        "from keras.optimizers import RMSprop"
      ],
      "execution_count": 36,
      "outputs": []
    },
    {
      "cell_type": "code",
      "metadata": {
        "id": "aoz0Dt6SV3QN",
        "colab": {
          "base_uri": "https://localhost:8080/"
        },
        "outputId": "779ef931-84b9-4fb6-846f-27e25a355631"
      },
      "source": [
        "# Define the model\n",
        "resnet_model = Xception(weights='imagenet', include_top=False, \n",
        "                        input_shape=(256, 256, 3))\n",
        "model = Sequential()\n",
        "model.add(UpSampling2D((2,2)))\n",
        "model.add(UpSampling2D((2,2)))\n",
        "model.add(UpSampling2D((2,2)))\n",
        "model.add(resnet_model)\n",
        "model.add(Flatten())\n",
        "model.add(BatchNormalization())\n",
        "model.add(Dense(128, activation='relu'))\n",
        "model.add(Dropout(0.5))\n",
        "model.add(BatchNormalization())\n",
        "model.add(Dense(64, activation='relu'))\n",
        "model.add(Dropout(0.5))\n",
        "model.add(BatchNormalization())\n",
        "model.add(Dense(10, activation='softmax'))"
      ],
      "execution_count": 37,
      "outputs": [
        {
          "output_type": "stream",
          "text": [
            "Downloading data from https://storage.googleapis.com/tensorflow/keras-applications/xception/xception_weights_tf_dim_ordering_tf_kernels_notop.h5\n",
            "83689472/83683744 [==============================] - 1s 0us/step\n"
          ],
          "name": "stdout"
        }
      ]
    },
    {
      "cell_type": "code",
      "metadata": {
        "id": "arWFKw9yZF9k"
      },
      "source": [
        "# Compile the model\n",
        "model.compile(optimizer=RMSprop(lr=2e-5), loss='categorical_crossentropy', \n",
        "              metrics=['acc'])"
      ],
      "execution_count": 38,
      "outputs": []
    },
    {
      "cell_type": "code",
      "metadata": {
        "id": "Q4zR1iAiZQbO",
        "colab": {
          "base_uri": "https://localhost:8080/"
        },
        "outputId": "259404b0-7924-4312-98de-4a502946694b"
      },
      "source": [
        "# Train the model\n",
        "history = model.fit(X_train_fl, y_train_oh, epochs=5, batch_size=50, \n",
        "                    validation_data=(X_val, y_val))"
      ],
      "execution_count": null,
      "outputs": [
        {
          "output_type": "stream",
          "text": [
            "Epoch 1/5\n",
            " 243/1000 [======>.......................] - ETA: 15:49 - loss: 2.2815 - acc: 0.2613"
          ],
          "name": "stdout"
        }
      ]
    },
    {
      "cell_type": "code",
      "metadata": {
        "id": "zp2NFx0MiXPz",
        "colab": {
          "base_uri": "https://localhost:8080/"
        },
        "outputId": "bb8fd854-33c0-4a08-9ae7-89662201f46c"
      },
      "source": [
        "# Train the model\n",
        "batch_size = 20\n",
        "steps_per_epoch = X_train.shape[0] / batch_size\n",
        "history = model.fit_generator(train_datagen.flow(X_train_fl, y_train_oh, \n",
        "                                                 batch_size=batch_size), \n",
        "                              epochs=5,\n",
        "                              steps_per_epoch=steps_per_epoch, \n",
        "                              validation_data=(X_val, y_val))"
      ],
      "execution_count": null,
      "outputs": [
        {
          "output_type": "stream",
          "text": [
            "/usr/local/lib/python3.7/dist-packages/tensorflow/python/keras/engine/training.py:1844: UserWarning: `Model.fit_generator` is deprecated and will be removed in a future version. Please use `Model.fit`, which supports generators.\n",
            "  warnings.warn('`Model.fit_generator` is deprecated and '\n"
          ],
          "name": "stderr"
        },
        {
          "output_type": "stream",
          "text": [
            "Epoch 1/5\n",
            "2500/2500 [==============================] - 742s 293ms/step - loss: 0.5687 - acc: 0.8554 - val_loss: 0.2378 - val_acc: 0.9338\n",
            "Epoch 2/5\n",
            "2500/2500 [==============================] - 731s 292ms/step - loss: 0.4999 - acc: 0.8745 - val_loss: 0.2294 - val_acc: 0.9340\n",
            "Epoch 3/5\n",
            "2500/2500 [==============================] - 732s 293ms/step - loss: 0.4551 - acc: 0.8867 - val_loss: 0.2056 - val_acc: 0.9438\n",
            "Epoch 4/5\n",
            "2500/2500 [==============================] - 733s 293ms/step - loss: 0.4077 - acc: 0.8989 - val_loss: 0.2058 - val_acc: 0.9426\n",
            "Epoch 5/5\n",
            "2500/2500 [==============================] - 733s 293ms/step - loss: 0.3646 - acc: 0.9106 - val_loss: 0.1697 - val_acc: 0.9480\n"
          ],
          "name": "stdout"
        }
      ]
    },
    {
      "cell_type": "markdown",
      "metadata": {
        "id": "L9_3YAJta7x0"
      },
      "source": [
        "# Exercise 1: Experiment with other pre-trained models to evaluate results"
      ]
    },
    {
      "cell_type": "code",
      "metadata": {
        "id": "t2ZhdVS-iNOA"
      },
      "source": [
        ""
      ],
      "execution_count": null,
      "outputs": []
    },
    {
      "cell_type": "markdown",
      "metadata": {
        "id": "-CLwgtnlbKds"
      },
      "source": [
        "# Exercise 2: Use the concepts learnt to train a classifier for CIFAR100 dataset"
      ]
    },
    {
      "cell_type": "code",
      "metadata": {
        "id": "2bWDRvYuPGE1"
      },
      "source": [
        ""
      ],
      "execution_count": null,
      "outputs": []
    }
  ]
}